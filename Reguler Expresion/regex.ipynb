{
 "cells": [
  {
   "cell_type": "code",
   "execution_count": 1,
   "metadata": {},
   "outputs": [],
   "source": [
    "import re\n",
    "# https://support.google.com/analytics/answer/1034324?hl=en\n",
    "# https://support.google.com/a/answer/1371415?hl=en\n",
    "# https://developers.google.com/edu/python/regular-expressions"
   ]
  },
  {
   "cell_type": "code",
   "execution_count": 2,
   "metadata": {},
   "outputs": [
    {
     "data": {
      "text/plain": [
       "<re.Match object; span=(0, 15), match='mDffs@gmail.com'>"
      ]
     },
     "execution_count": 2,
     "metadata": {},
     "output_type": "execute_result"
    }
   ],
   "source": [
    "## Compiling\n",
    "email = 'mDffs@gmail.com'\n",
    "pattern = re.compile(r'^m[a-zA-Z0-9]+@[a-z]+\\.\\w{3,5}$')\n",
    "pattern.match(email)"
   ]
  },
  {
   "cell_type": "code",
   "execution_count": 3,
   "metadata": {},
   "outputs": [
    {
     "data": {
      "text/plain": [
       "<re.Match object; span=(0, 11), match='m@gmail.com'>"
      ]
     },
     "execution_count": 3,
     "metadata": {},
     "output_type": "execute_result"
    }
   ],
   "source": [
    "# Match\n",
    "re.match(r'^m\\w?@[a-z]+\\.\\w{3,5}$', 'm@gmail.com')"
   ]
  },
  {
   "cell_type": "code",
   "execution_count": 4,
   "metadata": {},
   "outputs": [
    {
     "data": {
      "text/plain": [
       "<re.Match object; span=(0, 19), match='intern.hrv@gmail.bd'>"
      ]
     },
     "execution_count": 4,
     "metadata": {},
     "output_type": "execute_result"
    }
   ],
   "source": [
    "# intern.hrv@hrventure.bd\n",
    "re.match(r'^[a-z]+\\.\\w+@(hrventure|gmail)\\.\\w{2}', 'intern.hrv@gmail.bd')"
   ]
  },
  {
   "cell_type": "code",
   "execution_count": 5,
   "metadata": {},
   "outputs": [
    {
     "data": {
      "text/plain": [
       "<re.Match object; span=(0, 15), match='+880 1680728548'>"
      ]
     },
     "execution_count": 5,
     "metadata": {},
     "output_type": "execute_result"
    }
   ],
   "source": [
    "## +880-1680728542\n",
    "re.match(r'^\\+(\\d\\d\\d)\\s*(\\d{7,10})$', '+880 1680728548')"
   ]
  },
  {
   "cell_type": "code",
   "execution_count": 6,
   "metadata": {},
   "outputs": [
    {
     "data": {
      "text/plain": [
       "{'code': '880', 'number': '1680728548'}"
      ]
     },
     "execution_count": 6,
     "metadata": {},
     "output_type": "execute_result"
    }
   ],
   "source": [
    "re.match(r'^\\+(?P<code>\\d\\d\\d)\\s*(?P<number>\\d{7,10})$', '+880 1680728548').groupdict()"
   ]
  },
  {
   "cell_type": "code",
   "execution_count": 7,
   "metadata": {},
   "outputs": [
    {
     "data": {
      "text/plain": [
       "<re.Match object; span=(62, 81), match='intern.hrv@gmail.bd'>"
      ]
     },
     "execution_count": 7,
     "metadata": {},
     "output_type": "execute_result"
    }
   ],
   "source": [
    "data = 'Find My correct email 1223mDffs@gmail.com mDffs@gmail.com and intern.hrv@gmail.bd and intern.hrv@hrventure.bd '\n",
    "re.search(r'[a-z]+\\.\\w+@(hrventure|gmail)\\.\\w{2}', data)"
   ]
  },
  {
   "cell_type": "code",
   "execution_count": 8,
   "metadata": {},
   "outputs": [
    {
     "data": {
      "text/plain": [
       "[('intern.hrv@gmail.bd', 'gmail'), ('intern.hrv@hrventure.bd', 'hrventure')]"
      ]
     },
     "execution_count": 8,
     "metadata": {},
     "output_type": "execute_result"
    }
   ],
   "source": [
    "re.findall(r'([a-z]+\\.\\w+@(hrventure|gmail)\\.\\w{2})', data)"
   ]
  },
  {
   "cell_type": "code",
   "execution_count": 9,
   "metadata": {},
   "outputs": [],
   "source": [
    "it = re.finditer(r'([a-z]+\\.\\w+@(hrventure|gmail)\\.\\w{2})', data)"
   ]
  },
  {
   "cell_type": "code",
   "execution_count": 10,
   "metadata": {},
   "outputs": [
    {
     "data": {
      "text/plain": [
       "<re.Match object; span=(62, 81), match='intern.hrv@gmail.bd'>"
      ]
     },
     "execution_count": 10,
     "metadata": {},
     "output_type": "execute_result"
    }
   ],
   "source": [
    "next(it)"
   ]
  },
  {
   "cell_type": "code",
   "execution_count": 11,
   "metadata": {},
   "outputs": [
    {
     "data": {
      "text/plain": [
       "'Find My correct email 1223mDffs@gmail.com mDffs@gmail.com and @HRV and intern.hrv@hrventure.bd '"
      ]
     },
     "execution_count": 11,
     "metadata": {},
     "output_type": "execute_result"
    }
   ],
   "source": [
    "re.sub(r'[a-z]+\\.\\w+@(hrventure|gmail)\\.\\w{2}','@HRV', data, count=1)"
   ]
  },
  {
   "cell_type": "code",
   "execution_count": 12,
   "metadata": {},
   "outputs": [
    {
     "data": {
      "text/plain": [
       "['Find My correct email 1223mDffs@gmail.com mDffs@gmail.com and ',\n",
       " 'gmail',\n",
       " ' and intern.hrv@hrventure.bd ']"
      ]
     },
     "execution_count": 12,
     "metadata": {},
     "output_type": "execute_result"
    }
   ],
   "source": [
    "re.split(r'[a-z]+\\.\\w+@(hrventure|gmail)\\.\\w{2}', data, maxsplit=1)"
   ]
  }
 ],
 "metadata": {
  "interpreter": {
   "hash": "14a336a61cfaefff504b47e2b8e6e50961f0feafa7b211f8ff23081790c52144"
  },
  "kernelspec": {
   "display_name": "Python 3.9.7 64-bit",
   "name": "python3"
  },
  "language_info": {
   "codemirror_mode": {
    "name": "ipython",
    "version": 3
   },
   "file_extension": ".py",
   "mimetype": "text/x-python",
   "name": "python",
   "nbconvert_exporter": "python",
   "pygments_lexer": "ipython3",
   "version": "3.10.1"
  },
  "orig_nbformat": 4
 },
 "nbformat": 4,
 "nbformat_minor": 2
}
