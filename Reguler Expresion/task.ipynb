{
 "cells": [
  {
   "cell_type": "code",
   "execution_count": 1,
   "metadata": {},
   "outputs": [
    {
     "data": {
      "text/plain": [
       "[[9, 4], [12, 8]]"
      ]
     },
     "execution_count": 1,
     "metadata": {},
     "output_type": "execute_result"
    }
   ],
   "source": [
    "## Matrix Multiplication\n",
    "mat1 = [\n",
    "    [8,2],\n",
    "    [9,4]\n",
    "]\n",
    "mat2 = [\n",
    "    [1,2],\n",
    "    [3,4]\n",
    "]\n",
    "\n",
    "def mat_add(mat1:list, mat2:list)->list:\n",
    "    res = []\n",
    "    for row in range(len(mat1)):\n",
    "        Row = []\n",
    "        for col in range(len(mat1[0])):\n",
    "            Row.append(mat1[row][col] + mat2[row][col])\n",
    "        res.append(Row)\n",
    "    return res\n",
    "\n",
    "\n",
    "mat_add(mat1, mat2)"
   ]
  },
  {
   "cell_type": "code",
   "execution_count": 2,
   "metadata": {},
   "outputs": [
    {
     "data": {
      "text/plain": [
       "2"
      ]
     },
     "execution_count": 2,
     "metadata": {},
     "output_type": "execute_result"
    }
   ],
   "source": [
    "len(mat1)"
   ]
  },
  {
   "cell_type": "code",
   "execution_count": 3,
   "metadata": {},
   "outputs": [
    {
     "name": "stdout",
     "output_type": "stream",
     "text": [
      "6 > 4\n",
      "4 > 3\n",
      "3 > 2\n",
      "6 > 4\n",
      "4 > 3\n",
      "7 > 6\n",
      "6 > 4\n",
      "9 > 7\n",
      "7 > 6\n",
      "6 > 4\n",
      "9 > 7\n",
      "7 > 6\n",
      "9 > 7\n"
     ]
    },
    {
     "data": {
      "text/plain": [
       "[2, 3, 4, 4, 6, 7, 9]"
      ]
     },
     "execution_count": 3,
     "metadata": {},
     "output_type": "execute_result"
    }
   ],
   "source": [
    "# Sorting\n",
    "\n",
    "data = [6,4,7,9,3,4,2]\n",
    "\n",
    "def Sort(array:list):\n",
    "    for i in range(len(array)):\n",
    "        for j in range(i+1, len(array)):\n",
    "            if array[i] > array[j]:\n",
    "                print(f'{array[i]} > {array[j]}')\n",
    "                array[i], array[j] = array[j], array[i]\n",
    "    return array\n",
    "\n",
    "Sort(data)"
   ]
  },
  {
   "cell_type": "code",
   "execution_count": 4,
   "metadata": {},
   "outputs": [
    {
     "name": "stdout",
     "output_type": "stream",
     "text": [
      "6 < 7\n",
      "7 < 9\n",
      "4 < 6\n",
      "6 < 7\n",
      "4 < 6\n",
      "3 < 4\n"
     ]
    },
    {
     "data": {
      "text/plain": [
       "[9, 7, 6, 4, 4, 3, 2]"
      ]
     },
     "execution_count": 4,
     "metadata": {},
     "output_type": "execute_result"
    }
   ],
   "source": [
    "data = [6,4,7,9,3,4,2]\n",
    "\n",
    "def rSort(array:list):\n",
    "    for i in range(len(array)):\n",
    "        for j in range(i+1, len(array)):\n",
    "            if array[i] < array[j]:\n",
    "                print(f'{array[i]} < {array[j]}')\n",
    "                array[i], array[j] = array[j], array[i]\n",
    "    return array\n",
    "\n",
    "rSort(data)"
   ]
  },
  {
   "cell_type": "code",
   "execution_count": 18,
   "metadata": {},
   "outputs": [
    {
     "name": "stdout",
     "output_type": "stream",
     "text": [
      "[9, 7, 6, 4, 4, 3, 2]\n"
     ]
    }
   ],
   "source": [
    "data.sort(reverse=True)\n",
    "print(data)"
   ]
  },
  {
   "cell_type": "code",
   "execution_count": 27,
   "metadata": {},
   "outputs": [
    {
     "ename": "ValueError",
     "evalue": "list.remove(x): x not in list",
     "output_type": "error",
     "traceback": [
      "\u001b[1;31m---------------------------------------------------------------------------\u001b[0m",
      "\u001b[1;31mValueError\u001b[0m                                Traceback (most recent call last)",
      "\u001b[1;32me:\\New folder\\ML DS 1011\\Day 15\\task.ipynb Cell 6'\u001b[0m in \u001b[0;36m<module>\u001b[1;34m\u001b[0m\n\u001b[1;32m----> <a href='vscode-notebook-cell:/e%3A/New%20folder/ML%20DS%201011/Day%2015/task.ipynb#ch0000007?line=0'>1</a>\u001b[0m data\u001b[39m.\u001b[39;49mremove(\u001b[39m1\u001b[39;49m)\n",
      "\u001b[1;31mValueError\u001b[0m: list.remove(x): x not in list"
     ]
    }
   ],
   "source": [
    "data.remove(1)"
   ]
  }
 ],
 "metadata": {
  "interpreter": {
   "hash": "14a336a61cfaefff504b47e2b8e6e50961f0feafa7b211f8ff23081790c52144"
  },
  "kernelspec": {
   "display_name": "Python 3.9.7 64-bit",
   "name": "python3"
  },
  "language_info": {
   "codemirror_mode": {
    "name": "ipython",
    "version": 3
   },
   "file_extension": ".py",
   "mimetype": "text/x-python",
   "name": "python",
   "nbconvert_exporter": "python",
   "pygments_lexer": "ipython3",
   "version": "3.10.1"
  },
  "orig_nbformat": 4
 },
 "nbformat": 4,
 "nbformat_minor": 2
}
