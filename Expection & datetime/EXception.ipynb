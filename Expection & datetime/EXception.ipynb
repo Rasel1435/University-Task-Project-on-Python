{
 "cells": [
  {
   "cell_type": "code",
   "execution_count": 1,
   "metadata": {},
   "outputs": [
    {
     "name": "stdout",
     "output_type": "stream",
     "text": [
      "0.4\n",
      "Program Finished!\n"
     ]
    }
   ],
   "source": [
    "# EXception\n",
    "num = 2\n",
    "divider = int(input())\n",
    "res = num/divider\n",
    "print(res)\n",
    "print('Program Finished!')\n"
   ]
  },
  {
   "cell_type": "code",
   "execution_count": 2,
   "metadata": {},
   "outputs": [
    {
     "name": "stdout",
     "output_type": "stream",
     "text": [
      "0.4\n",
      "Program Finished!\n"
     ]
    }
   ],
   "source": [
    "# try except\n",
    "num = 2\n",
    "try:\n",
    "    divider = int(input())\n",
    "    res = num/divider\n",
    "    print(res)\n",
    "except Exception as e:\n",
    "    print(e)\n",
    "print('Program Finished!')"
   ]
  },
  {
   "cell_type": "code",
   "execution_count": 3,
   "metadata": {},
   "outputs": [
    {
     "name": "stdout",
     "output_type": "stream",
     "text": [
      "0.4\n",
      "ALways Run\n",
      "Program Finished!\n"
     ]
    }
   ],
   "source": [
    "num = 2\n",
    "try:\n",
    "    divider = int(input())\n",
    "    res = num/divider\n",
    "    print(res)\n",
    "except ArithmeticError as e:\n",
    "    print('ArithmeticError ', e)  \n",
    "except ValueError as e:\n",
    "    print('ValueError ', e)\n",
    "finally:\n",
    "    print('ALways Run')\n",
    "\n",
    "print('Program Finished!')"
   ]
  },
  {
   "cell_type": "code",
   "execution_count": 11,
   "metadata": {},
   "outputs": [
    {
     "name": "stdout",
     "output_type": "stream",
     "text": [
      "file3.txt File Created!\n"
     ]
    }
   ],
   "source": [
    "data = 'Something'\n",
    "fname = 'file.txt'\n",
    "try:\n",
    "    with open(fname, mode='x') as f:\n",
    "        f.write(data)\n",
    "except FileExistsError as e:\n",
    "    fname = fname.split('.')[0]+'1'+'.txt'\n",
    "    with open(fname, mode='x') as f:\n",
    "        f.write(data)\n",
    "finally:\n",
    "    print(f'{fname} File Created!')"
   ]
  },
  {
   "cell_type": "code",
   "execution_count": 5,
   "metadata": {},
   "outputs": [
    {
     "name": "stdout",
     "output_type": "stream",
     "text": [
      "17 is below the Age threshold!\n"
     ]
    }
   ],
   "source": [
    "## Custom\n",
    "age = 17\n",
    "try:\n",
    "    if age < 18:\n",
    "        raise Exception(f'{age} is below the Age threshold!')\n",
    "except Exception as e:\n",
    "    print(e)"
   ]
  },
  {
   "cell_type": "code",
   "execution_count": 6,
   "metadata": {},
   "outputs": [
    {
     "name": "stdout",
     "output_type": "stream",
     "text": [
      "17 is below the Age threshold!\n"
     ]
    }
   ],
   "source": [
    "# Customixe Exception by Class inheritance\n",
    "class AgeThresholdError(Exception):\n",
    "    pass\n",
    "\n",
    "age = 17\n",
    "try:\n",
    "    if age < 18:\n",
    "        raise AgeThresholdError(f'{age} is below the Age threshold!')\n",
    "except AgeThresholdError as e:\n",
    "    print(e)"
   ]
  },
  {
   "cell_type": "code",
   "execution_count": 7,
   "metadata": {},
   "outputs": [
    {
     "name": "stdout",
     "output_type": "stream",
     "text": [
      "17 is below the Age threshold!\n"
     ]
    }
   ],
   "source": [
    "## Asserting Error\n",
    "age = 17\n",
    "try:\n",
    "    assert age >= 18, f'{age} is below the Age threshold!'\n",
    "except AssertionError as e:\n",
    "    print(e)"
   ]
  }
 ],
 "metadata": {
  "interpreter": {
   "hash": "14a336a61cfaefff504b47e2b8e6e50961f0feafa7b211f8ff23081790c52144"
  },
  "kernelspec": {
   "display_name": "Python 3.9.7 64-bit",
   "name": "python3"
  },
  "language_info": {
   "codemirror_mode": {
    "name": "ipython",
    "version": 3
   },
   "file_extension": ".py",
   "mimetype": "text/x-python",
   "name": "python",
   "nbconvert_exporter": "python",
   "pygments_lexer": "ipython3",
   "version": "3.10.1"
  },
  "orig_nbformat": 4
 },
 "nbformat": 4,
 "nbformat_minor": 2
}
