{
 "cells": [
  {
   "cell_type": "code",
   "execution_count": 1,
   "metadata": {},
   "outputs": [
    {
     "name": "stdout",
     "output_type": "stream",
     "text": [
      "Greetings!\n",
      "None\n"
     ]
    }
   ],
   "source": [
    "# Definition\n",
    "def greet():\n",
    "    print(\"Greetings!\")\n",
    "\n",
    "## Calling Function\n",
    "print(greet())"
   ]
  },
  {
   "cell_type": "code",
   "execution_count": 2,
   "metadata": {},
   "outputs": [
    {
     "name": "stdout",
     "output_type": "stream",
     "text": [
      "5\n"
     ]
    },
    {
     "data": {
      "text/plain": [
       "7"
      ]
     },
     "execution_count": 2,
     "metadata": {},
     "output_type": "execute_result"
    }
   ],
   "source": [
    "# Function With return value\n",
    "def add():\n",
    "    a = 2+3\n",
    "    print(a)\n",
    "    return a\n",
    "\n",
    "add()+2"
   ]
  },
  {
   "cell_type": "code",
   "execution_count": 3,
   "metadata": {},
   "outputs": [
    {
     "data": {
      "text/plain": [
       "8"
      ]
     },
     "execution_count": 3,
     "metadata": {},
     "output_type": "execute_result"
    }
   ],
   "source": [
    "# Function with args\n",
    "def add(num1, num2):\n",
    "    a = num1 + num2\n",
    "    return a\n",
    "\n",
    "add(5, 3)"
   ]
  },
  {
   "cell_type": "code",
   "execution_count": 4,
   "metadata": {},
   "outputs": [
    {
     "data": {
      "text/plain": [
       "170"
      ]
     },
     "execution_count": 4,
     "metadata": {},
     "output_type": "execute_result"
    }
   ],
   "source": [
    "# Function with Dynamic args args\n",
    "def add(*nums):\n",
    "    s = 0\n",
    "    for num in nums:\n",
    "        s += num\n",
    "    return s\n",
    "\n",
    "add(5, 3,4,6,78,9,65)\n",
    "\n",
    "def add(nums):\n",
    "    s = 0\n",
    "    for num in nums:\n",
    "        s += num\n",
    "    return s\n",
    "\n",
    "add((5, 3,4,6,78,9,65))"
   ]
  },
  {
   "cell_type": "code",
   "execution_count": 5,
   "metadata": {},
   "outputs": [
    {
     "name": "stdout",
     "output_type": "stream",
     "text": [
      "{'password': 'happy@11223', 'email': 'acc@gmail.com', 'date': '12/29/2021'}\n",
      "Account Created!\n",
      "password : happy@11223\n",
      "email : acc@gmail.com\n",
      "date : 12/29/2021\n"
     ]
    }
   ],
   "source": [
    "# Keywords args\n",
    "def create_account(is_premium=True,**kwargs):\n",
    "    print(kwargs)\n",
    "    print('Account Created!')\n",
    "    for key, val in kwargs.items():\n",
    "        print(key, ':', val)\n",
    "\n",
    "\n",
    "create_account(password='happy@11223',email='acc@gmail.com', is_premium=True, date ='12/29/2021')"
   ]
  },
  {
   "cell_type": "code",
   "execution_count": 6,
   "metadata": {},
   "outputs": [
    {
     "data": {
      "text/plain": [
       "True"
      ]
     },
     "execution_count": 6,
     "metadata": {},
     "output_type": "execute_result"
    }
   ],
   "source": [
    "## \n",
    "def isEven(num):\n",
    "    if num%2 == 0:\n",
    "        return True\n",
    "    return False\n",
    "\n",
    "isEven(4)"
   ]
  },
  {
   "cell_type": "code",
   "execution_count": 7,
   "metadata": {},
   "outputs": [
    {
     "data": {
      "text/plain": [
       "5"
      ]
     },
     "execution_count": 7,
     "metadata": {},
     "output_type": "execute_result"
    }
   ],
   "source": [
    "## Lambda Function\n",
    "# var = lambda num: num+1\n",
    "inc1 = lambda num: num+1\n",
    "inc1(4)"
   ]
  },
  {
   "cell_type": "code",
   "execution_count": 8,
   "metadata": {},
   "outputs": [
    {
     "data": {
      "text/plain": [
       "True"
      ]
     },
     "execution_count": 8,
     "metadata": {},
     "output_type": "execute_result"
    }
   ],
   "source": [
    "isEven = lambda num: True if num%2==0 else False\n",
    "isEven(4)"
   ]
  },
  {
   "cell_type": "code",
   "execution_count": 9,
   "metadata": {},
   "outputs": [
    {
     "data": {
      "text/plain": [
       "True"
      ]
     },
     "execution_count": 9,
     "metadata": {},
     "output_type": "execute_result"
    }
   ],
   "source": [
    "isOdd = lambda num: True if num%2 !=0 else False\n",
    "isOdd(3)"
   ]
  },
  {
   "cell_type": "code",
   "execution_count": 10,
   "metadata": {},
   "outputs": [
    {
     "data": {
      "text/plain": [
       "[True, False, True, False, True, False, True, False]"
      ]
     },
     "execution_count": 10,
     "metadata": {},
     "output_type": "execute_result"
    }
   ],
   "source": [
    "isEven = lambda num: True if num%2==0.0 else False\n",
    "isEven(4)\n",
    "list(map(isEven, [2,3,4,5,6,7,8,9]))"
   ]
  },
  {
   "cell_type": "code",
   "execution_count": 11,
   "metadata": {},
   "outputs": [
    {
     "data": {
      "text/plain": [
       "([2, 4, 6, 8], [3, 5, 7, 9])"
      ]
     },
     "execution_count": 11,
     "metadata": {},
     "output_type": "execute_result"
    }
   ],
   "source": [
    "isEven = lambda num: True if num%2==0 else False\n",
    "isEven(4)\n",
    "list(filter(isEven, [2,3,4,5,6,7,8,9])), list(filter(isOdd, [2,3,4,5,6,7,8,9]))"
   ]
  },
  {
   "cell_type": "code",
   "execution_count": 12,
   "metadata": {},
   "outputs": [
    {
     "data": {
      "text/plain": [
       "[True, False, True, False, True, False, True, False]"
      ]
     },
     "execution_count": 12,
     "metadata": {},
     "output_type": "execute_result"
    }
   ],
   "source": [
    "## List Comprehension\n",
    "nums = [2,3,4,5,6,7,8,9]\n",
    "evens = [True if num%2==0 else False  for num in nums]\n",
    "evens"
   ]
  },
  {
   "cell_type": "code",
   "execution_count": 13,
   "metadata": {},
   "outputs": [
    {
     "data": {
      "text/plain": [
       "[2, 4, 6, 8]"
      ]
     },
     "execution_count": 13,
     "metadata": {},
     "output_type": "execute_result"
    }
   ],
   "source": [
    "evens = [num  for num in nums if num%2==0]\n",
    "evens"
   ]
  },
  {
   "cell_type": "code",
   "execution_count": 14,
   "metadata": {},
   "outputs": [
    {
     "data": {
      "text/plain": [
       "[2,\n",
       " 4,\n",
       " 6,\n",
       " 8,\n",
       " 10,\n",
       " 12,\n",
       " 14,\n",
       " 16,\n",
       " 18,\n",
       " 20,\n",
       " 22,\n",
       " 24,\n",
       " 26,\n",
       " 28,\n",
       " 30,\n",
       " 32,\n",
       " 34,\n",
       " 36,\n",
       " 38,\n",
       " 40,\n",
       " 42,\n",
       " 44,\n",
       " 46,\n",
       " 48,\n",
       " 50,\n",
       " 52,\n",
       " 54,\n",
       " 56,\n",
       " 58,\n",
       " 60,\n",
       " 62,\n",
       " 64,\n",
       " 66,\n",
       " 68,\n",
       " 70,\n",
       " 72,\n",
       " 74,\n",
       " 76,\n",
       " 78,\n",
       " 80,\n",
       " 82,\n",
       " 84,\n",
       " 86,\n",
       " 88,\n",
       " 90,\n",
       " 92,\n",
       " 94,\n",
       " 96,\n",
       " 98]"
      ]
     },
     "execution_count": 14,
     "metadata": {},
     "output_type": "execute_result"
    }
   ],
   "source": [
    "nums = lambda low, up: [num  for num in range(low , up) if num%2==0]\n",
    "nums(1,100)"
   ]
  },
  {
   "cell_type": "code",
   "execution_count": 15,
   "metadata": {},
   "outputs": [
    {
     "data": {
      "text/plain": [
       "[True, False, True, False, True, False, True, False]"
      ]
     },
     "execution_count": 15,
     "metadata": {},
     "output_type": "execute_result"
    }
   ],
   "source": [
    "nums = [2,3,4,5,6,7,8,9]\n",
    "evens = (True if num%2==0 else False  for num in nums)\n",
    "list(evens)"
   ]
  },
  {
   "cell_type": "code",
   "execution_count": 16,
   "metadata": {},
   "outputs": [
    {
     "data": {
      "text/plain": [
       "{2: 'Even', 3: 3, 4: 'Even', 5: 5, 6: 'Even', 7: 7, 8: 'Even', 9: 9}"
      ]
     },
     "execution_count": 16,
     "metadata": {},
     "output_type": "execute_result"
    }
   ],
   "source": [
    "nums = [2,3,4,5,6,7,8,9]\n",
    "numDict = {}\n",
    "evens = {num:'Even' if num%2==0 else num  for num in nums}\n",
    "evens"
   ]
  },
  {
   "cell_type": "code",
   "execution_count": 17,
   "metadata": {},
   "outputs": [
    {
     "data": {
      "text/plain": [
       "[2, 3, 4, 5, 6, 7, 9, 10, 11]"
      ]
     },
     "execution_count": 17,
     "metadata": {},
     "output_type": "execute_result"
    }
   ],
   "source": [
    "# Mulidimensional\n",
    "ndim =[\n",
    "    [1, 2, 3],\n",
    "    [4, 5, 6],\n",
    "    [8, 9, 10]\n",
    "]\n",
    "new = [num+1 for nums in ndim for num in nums]\n",
    "new"
   ]
  },
  {
   "cell_type": "code",
   "execution_count": 18,
   "metadata": {},
   "outputs": [
    {
     "name": "stdout",
     "output_type": "stream",
     "text": [
      "[0][0] = 1\n",
      "[0][1] = 2\n",
      "[0][2] = 3\n",
      "[1][0] = 4\n",
      "[1][1] = 5\n",
      "[1][2] = 6\n",
      "[2][0] = 8\n",
      "[2][1] = 9\n",
      "[2][2] = 10\n"
     ]
    }
   ],
   "source": [
    "for row in ndim:\n",
    "    for col in row:\n",
    "        print(f'[{ndim.index(row)}][{row.index(col)}] = {col}')"
   ]
  },
  {
   "cell_type": "code",
   "execution_count": 19,
   "metadata": {},
   "outputs": [],
   "source": [
    "## Matrix addition\n",
    "# [1, 2, 3]\n",
    "# [4, 5, 6]\n",
    "# [8, 9, 10]\n",
    "\n",
    "# [1, 2, 3]\n",
    "# [4, 5, 6]\n",
    "# [8, 9, 10]\n",
    "\n",
    "# sum =[\n",
    "#   [2,4,6],\n",
    "#   [8,10,12],\n",
    "#   [16,18, 20] \n",
    "# ]"
   ]
  }
 ],
 "metadata": {
  "interpreter": {
   "hash": "14a336a61cfaefff504b47e2b8e6e50961f0feafa7b211f8ff23081790c52144"
  },
  "kernelspec": {
   "display_name": "Python 3.9.7 64-bit",
   "name": "python3"
  },
  "language_info": {
   "codemirror_mode": {
    "name": "ipython",
    "version": 3
   },
   "file_extension": ".py",
   "mimetype": "text/x-python",
   "name": "python",
   "nbconvert_exporter": "python",
   "pygments_lexer": "ipython3",
   "version": "3.10.1"
  },
  "orig_nbformat": 4
 },
 "nbformat": 4,
 "nbformat_minor": 2
}
