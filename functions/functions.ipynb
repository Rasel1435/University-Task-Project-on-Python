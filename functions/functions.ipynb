{
 "cells": [
  {
   "cell_type": "code",
   "execution_count": 5,
   "metadata": {},
   "outputs": [],
   "source": [
    "## Matrix addition\n",
    "# [1, 2, 3]\n",
    "# [4, 5, 6]\n",
    "# [8, 9, 10]\n",
    "\n",
    "# [1, 2, 3]\n",
    "# [4, 5, 6]\n",
    "# [8, 9, 10]\n",
    "\n",
    "# sum =[\n",
    "#   [2,4,6],\n",
    "#   [8,10,12],\n",
    "#   [16,18, 20] \n",
    "# ]"
   ]
  },
  {
   "cell_type": "code",
   "execution_count": 6,
   "metadata": {},
   "outputs": [],
   "source": [
    "## Recursion\n",
    "def p(num):\n",
    "    if num==1:\n",
    "        print(num)\n",
    "        return 1\n",
    "    print(num ,end='+')\n",
    "    return num + p(num-1)"
   ]
  },
  {
   "cell_type": "code",
   "execution_count": 7,
   "metadata": {},
   "outputs": [
    {
     "name": "stdout",
     "output_type": "stream",
     "text": [
      "5+4+3+2+1\n"
     ]
    },
    {
     "data": {
      "text/plain": [
       "15"
      ]
     },
     "execution_count": 7,
     "metadata": {},
     "output_type": "execute_result"
    }
   ],
   "source": [
    "p(5)"
   ]
  },
  {
   "cell_type": "code",
   "execution_count": 8,
   "metadata": {},
   "outputs": [],
   "source": [
    "## Generators\n",
    "def r(low, up):\n",
    "    while low != up:\n",
    "        low += 1\n",
    "        return low\n",
    "\n",
    "values = r(1,9)"
   ]
  },
  {
   "cell_type": "code",
   "execution_count": 9,
   "metadata": {},
   "outputs": [],
   "source": [
    "def r(low, up):\n",
    "    while low != up:\n",
    "        yield low,low+1, low+2, 'Pause'\n",
    "        print('Resuming... From Pause')\n",
    "        low += 3\n",
    "\n",
    "\n",
    "values = r(1,9)"
   ]
  },
  {
   "cell_type": "code",
   "execution_count": 10,
   "metadata": {},
   "outputs": [
    {
     "data": {
      "text/plain": [
       "(1, 2, 3, 'Pause')"
      ]
     },
     "execution_count": 10,
     "metadata": {},
     "output_type": "execute_result"
    }
   ],
   "source": [
    "next(values)"
   ]
  },
  {
   "cell_type": "code",
   "execution_count": 11,
   "metadata": {},
   "outputs": [
    {
     "name": "stdout",
     "output_type": "stream",
     "text": [
      "Order Placing...\n",
      "Order PLaced\n"
     ]
    }
   ],
   "source": [
    "## Decorators\n",
    "user = {'username': 'John','password': 1234}\n",
    "\n",
    "def login_required(function):\n",
    "    if user['username'] and user['password']:\n",
    "        def w():\n",
    "            print(\"Order Placing...\")\n",
    "            function()\n",
    "    return w()\n",
    "\n",
    "# @login_required('IPhone')\n",
    "# def cancel_order():\n",
    "#     print('Canceled')\n",
    "  \n",
    "@login_required\n",
    "def place_order():\n",
    "    print(f'Order PLaced')\n"
   ]
  },
  {
   "cell_type": "code",
   "execution_count": 12,
   "metadata": {},
   "outputs": [
    {
     "name": "stdout",
     "output_type": "stream",
     "text": [
      "h\n"
     ]
    }
   ],
   "source": [
    "def test(arg,*,l=0):\n",
    "    print(arg)\n",
    "\n",
    "test('h', l=0)\n"
   ]
  },
  {
   "cell_type": "code",
   "execution_count": null,
   "metadata": {},
   "outputs": [],
   "source": []
  }
 ],
 "metadata": {
  "interpreter": {
   "hash": "14a336a61cfaefff504b47e2b8e6e50961f0feafa7b211f8ff23081790c52144"
  },
  "kernelspec": {
   "display_name": "Python 3.9.7 64-bit",
   "name": "python3"
  },
  "language_info": {
   "codemirror_mode": {
    "name": "ipython",
    "version": 3
   },
   "file_extension": ".py",
   "mimetype": "text/x-python",
   "name": "python",
   "nbconvert_exporter": "python",
   "pygments_lexer": "ipython3",
   "version": "3.10.1"
  },
  "orig_nbformat": 4
 },
 "nbformat": 4,
 "nbformat_minor": 2
}
