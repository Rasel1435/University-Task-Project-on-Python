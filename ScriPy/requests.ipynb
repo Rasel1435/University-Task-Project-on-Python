{
 "cells": [
  {
   "cell_type": "code",
   "execution_count": 11,
   "metadata": {},
   "outputs": [],
   "source": [
    "# ! pip install requests"
   ]
  },
  {
   "cell_type": "code",
   "execution_count": 2,
   "metadata": {},
   "outputs": [],
   "source": [
    "import requests"
   ]
  },
  {
   "cell_type": "code",
   "execution_count": 3,
   "metadata": {},
   "outputs": [
    {
     "data": {
      "text/plain": [
       "(200, True)"
      ]
     },
     "execution_count": 3,
     "metadata": {},
     "output_type": "execute_result"
    }
   ],
   "source": [
    "\n",
    "response = requests.get(r'https://reqres.in/api/users')\n",
    "response.status_code, response.ok"
   ]
  },
  {
   "cell_type": "code",
   "execution_count": 4,
   "metadata": {},
   "outputs": [
    {
     "data": {
      "text/plain": [
       "{'Date': 'Fri, 15 Apr 2022 04:56:42 GMT', 'Content-Type': 'application/json; charset=utf-8', 'Transfer-Encoding': 'chunked', 'Connection': 'keep-alive', 'X-Powered-By': 'Express', 'Access-Control-Allow-Origin': '*', 'Etag': 'W/\"3e4-2RLXvr5wTg9YQ6aH95CkYoFNuO8\"', 'Via': '1.1 vegur', 'Cache-Control': 'max-age=14400', 'CF-Cache-Status': 'HIT', 'Age': '78', 'Expect-CT': 'max-age=604800, report-uri=\"https://report-uri.cloudflare.com/cdn-cgi/beacon/expect-ct\"', 'Report-To': '{\"endpoints\":[{\"url\":\"https:\\\\/\\\\/a.nel.cloudflare.com\\\\/report\\\\/v3?s=ySJCBIHXROFNwcltcQE2zVoho2G97BcOsGtEoxoiS6rG03I8DuCxxKrUzXH5xfgdcNlWh%2FuPBzt3i%2BVL71gsEq3N9J%2BpEdaArfgNFywqIDs0DSaHtRhcxBj%2BK1s%3D\"}],\"group\":\"cf-nel\",\"max_age\":604800}', 'NEL': '{\"success_fraction\":0,\"report_to\":\"cf-nel\",\"max_age\":604800}', 'Vary': 'Accept-Encoding', 'Server': 'cloudflare', 'CF-RAY': '6fc218a1aa0278c4-CGP', 'Content-Encoding': 'gzip', 'alt-svc': 'h3=\":443\"; ma=86400, h3-29=\":443\"; ma=86400'}"
      ]
     },
     "execution_count": 4,
     "metadata": {},
     "output_type": "execute_result"
    }
   ],
   "source": [
    "response.headers"
   ]
  },
  {
   "cell_type": "code",
   "execution_count": 5,
   "metadata": {},
   "outputs": [
    {
     "data": {
      "text/plain": [
       "'{\"page\":1,\"per_page\":6,\"total\":12,\"total_pages\":2,\"data\":[{\"id\":1,\"email\":\"george.bluth@reqres.in\",\"first_name\":\"George\",\"last_name\":\"Bluth\",\"avatar\":\"https://reqres.in/img/faces/1-image.jpg\"},{\"id\":2,\"email\":\"janet.weaver@reqres.in\",\"first_name\":\"Janet\",\"last_name\":\"Weaver\",\"avatar\":\"https://reqres.in/img/faces/2-image.jpg\"},{\"id\":3,\"email\":\"emma.wong@reqres.in\",\"first_name\":\"Emma\",\"last_name\":\"Wong\",\"avatar\":\"https://reqres.in/img/faces/3-image.jpg\"},{\"id\":4,\"email\":\"eve.holt@reqres.in\",\"first_name\":\"Eve\",\"last_name\":\"Holt\",\"avatar\":\"https://reqres.in/img/faces/4-image.jpg\"},{\"id\":5,\"email\":\"charles.morris@reqres.in\",\"first_name\":\"Charles\",\"last_name\":\"Morris\",\"avatar\":\"https://reqres.in/img/faces/5-image.jpg\"},{\"id\":6,\"email\":\"tracey.ramos@reqres.in\",\"first_name\":\"Tracey\",\"last_name\":\"Ramos\",\"avatar\":\"https://reqres.in/img/faces/6-image.jpg\"}],\"support\":{\"url\":\"https://reqres.in/#support-heading\",\"text\":\"To keep ReqRes free, contributions towards server costs are appreciated!\"}}'"
      ]
     },
     "execution_count": 5,
     "metadata": {},
     "output_type": "execute_result"
    }
   ],
   "source": [
    "response.text"
   ]
  },
  {
   "cell_type": "code",
   "execution_count": 6,
   "metadata": {},
   "outputs": [
    {
     "data": {
      "text/plain": [
       "b'{\"page\":1,\"per_page\":6,\"total\":12,\"total_pages\":2,\"data\":[{\"id\":1,\"email\":\"george.bluth@reqres.in\",\"first_name\":\"George\",\"last_name\":\"Bluth\",\"avatar\":\"https://reqres.in/img/faces/1-image.jpg\"},{\"id\":2,\"email\":\"janet.weaver@reqres.in\",\"first_name\":\"Janet\",\"last_name\":\"Weaver\",\"avatar\":\"https://reqres.in/img/faces/2-image.jpg\"},{\"id\":3,\"email\":\"emma.wong@reqres.in\",\"first_name\":\"Emma\",\"last_name\":\"Wong\",\"avatar\":\"https://reqres.in/img/faces/3-image.jpg\"},{\"id\":4,\"email\":\"eve.holt@reqres.in\",\"first_name\":\"Eve\",\"last_name\":\"Holt\",\"avatar\":\"https://reqres.in/img/faces/4-image.jpg\"},{\"id\":5,\"email\":\"charles.morris@reqres.in\",\"first_name\":\"Charles\",\"last_name\":\"Morris\",\"avatar\":\"https://reqres.in/img/faces/5-image.jpg\"},{\"id\":6,\"email\":\"tracey.ramos@reqres.in\",\"first_name\":\"Tracey\",\"last_name\":\"Ramos\",\"avatar\":\"https://reqres.in/img/faces/6-image.jpg\"}],\"support\":{\"url\":\"https://reqres.in/#support-heading\",\"text\":\"To keep ReqRes free, contributions towards server costs are appreciated!\"}}'"
      ]
     },
     "execution_count": 6,
     "metadata": {},
     "output_type": "execute_result"
    }
   ],
   "source": [
    "response.content"
   ]
  },
  {
   "cell_type": "code",
   "execution_count": 7,
   "metadata": {},
   "outputs": [
    {
     "data": {
      "text/plain": [
       "[{'id': 1,\n",
       "  'email': 'george.bluth@reqres.in',\n",
       "  'first_name': 'George',\n",
       "  'last_name': 'Bluth',\n",
       "  'avatar': 'https://reqres.in/img/faces/1-image.jpg'},\n",
       " {'id': 2,\n",
       "  'email': 'janet.weaver@reqres.in',\n",
       "  'first_name': 'Janet',\n",
       "  'last_name': 'Weaver',\n",
       "  'avatar': 'https://reqres.in/img/faces/2-image.jpg'},\n",
       " {'id': 3,\n",
       "  'email': 'emma.wong@reqres.in',\n",
       "  'first_name': 'Emma',\n",
       "  'last_name': 'Wong',\n",
       "  'avatar': 'https://reqres.in/img/faces/3-image.jpg'},\n",
       " {'id': 4,\n",
       "  'email': 'eve.holt@reqres.in',\n",
       "  'first_name': 'Eve',\n",
       "  'last_name': 'Holt',\n",
       "  'avatar': 'https://reqres.in/img/faces/4-image.jpg'},\n",
       " {'id': 5,\n",
       "  'email': 'charles.morris@reqres.in',\n",
       "  'first_name': 'Charles',\n",
       "  'last_name': 'Morris',\n",
       "  'avatar': 'https://reqres.in/img/faces/5-image.jpg'},\n",
       " {'id': 6,\n",
       "  'email': 'tracey.ramos@reqres.in',\n",
       "  'first_name': 'Tracey',\n",
       "  'last_name': 'Ramos',\n",
       "  'avatar': 'https://reqres.in/img/faces/6-image.jpg'}]"
      ]
     },
     "execution_count": 7,
     "metadata": {},
     "output_type": "execute_result"
    }
   ],
   "source": [
    "response.json()['data']"
   ]
  },
  {
   "cell_type": "code",
   "execution_count": 8,
   "metadata": {},
   "outputs": [],
   "source": [
    "data = {}\n",
    "for page in range(1,13):\n",
    "    response = requests.get(r'https://reqres.in/api/users', params={'page':page})\n",
    "    data[page] = response.json()"
   ]
  },
  {
   "cell_type": "code",
   "execution_count": 9,
   "metadata": {},
   "outputs": [
    {
     "data": {
      "text/plain": [
       "{1: {'page': 1,\n",
       "  'per_page': 6,\n",
       "  'total': 12,\n",
       "  'total_pages': 2,\n",
       "  'data': [{'id': 1,\n",
       "    'email': 'george.bluth@reqres.in',\n",
       "    'first_name': 'George',\n",
       "    'last_name': 'Bluth',\n",
       "    'avatar': 'https://reqres.in/img/faces/1-image.jpg'},\n",
       "   {'id': 2,\n",
       "    'email': 'janet.weaver@reqres.in',\n",
       "    'first_name': 'Janet',\n",
       "    'last_name': 'Weaver',\n",
       "    'avatar': 'https://reqres.in/img/faces/2-image.jpg'},\n",
       "   {'id': 3,\n",
       "    'email': 'emma.wong@reqres.in',\n",
       "    'first_name': 'Emma',\n",
       "    'last_name': 'Wong',\n",
       "    'avatar': 'https://reqres.in/img/faces/3-image.jpg'},\n",
       "   {'id': 4,\n",
       "    'email': 'eve.holt@reqres.in',\n",
       "    'first_name': 'Eve',\n",
       "    'last_name': 'Holt',\n",
       "    'avatar': 'https://reqres.in/img/faces/4-image.jpg'},\n",
       "   {'id': 5,\n",
       "    'email': 'charles.morris@reqres.in',\n",
       "    'first_name': 'Charles',\n",
       "    'last_name': 'Morris',\n",
       "    'avatar': 'https://reqres.in/img/faces/5-image.jpg'},\n",
       "   {'id': 6,\n",
       "    'email': 'tracey.ramos@reqres.in',\n",
       "    'first_name': 'Tracey',\n",
       "    'last_name': 'Ramos',\n",
       "    'avatar': 'https://reqres.in/img/faces/6-image.jpg'}],\n",
       "  'support': {'url': 'https://reqres.in/#support-heading',\n",
       "   'text': 'To keep ReqRes free, contributions towards server costs are appreciated!'}},\n",
       " 2: {'page': 2,\n",
       "  'per_page': 6,\n",
       "  'total': 12,\n",
       "  'total_pages': 2,\n",
       "  'data': [{'id': 7,\n",
       "    'email': 'michael.lawson@reqres.in',\n",
       "    'first_name': 'Michael',\n",
       "    'last_name': 'Lawson',\n",
       "    'avatar': 'https://reqres.in/img/faces/7-image.jpg'},\n",
       "   {'id': 8,\n",
       "    'email': 'lindsay.ferguson@reqres.in',\n",
       "    'first_name': 'Lindsay',\n",
       "    'last_name': 'Ferguson',\n",
       "    'avatar': 'https://reqres.in/img/faces/8-image.jpg'},\n",
       "   {'id': 9,\n",
       "    'email': 'tobias.funke@reqres.in',\n",
       "    'first_name': 'Tobias',\n",
       "    'last_name': 'Funke',\n",
       "    'avatar': 'https://reqres.in/img/faces/9-image.jpg'},\n",
       "   {'id': 10,\n",
       "    'email': 'byron.fields@reqres.in',\n",
       "    'first_name': 'Byron',\n",
       "    'last_name': 'Fields',\n",
       "    'avatar': 'https://reqres.in/img/faces/10-image.jpg'},\n",
       "   {'id': 11,\n",
       "    'email': 'george.edwards@reqres.in',\n",
       "    'first_name': 'George',\n",
       "    'last_name': 'Edwards',\n",
       "    'avatar': 'https://reqres.in/img/faces/11-image.jpg'},\n",
       "   {'id': 12,\n",
       "    'email': 'rachel.howell@reqres.in',\n",
       "    'first_name': 'Rachel',\n",
       "    'last_name': 'Howell',\n",
       "    'avatar': 'https://reqres.in/img/faces/12-image.jpg'}],\n",
       "  'support': {'url': 'https://reqres.in/#support-heading',\n",
       "   'text': 'To keep ReqRes free, contributions towards server costs are appreciated!'}},\n",
       " 3: {'page': 3,\n",
       "  'per_page': 6,\n",
       "  'total': 12,\n",
       "  'total_pages': 2,\n",
       "  'data': [],\n",
       "  'support': {'url': 'https://reqres.in/#support-heading',\n",
       "   'text': 'To keep ReqRes free, contributions towards server costs are appreciated!'}},\n",
       " 4: {'page': 4,\n",
       "  'per_page': 6,\n",
       "  'total': 12,\n",
       "  'total_pages': 2,\n",
       "  'data': [],\n",
       "  'support': {'url': 'https://reqres.in/#support-heading',\n",
       "   'text': 'To keep ReqRes free, contributions towards server costs are appreciated!'}},\n",
       " 5: {'page': 5,\n",
       "  'per_page': 6,\n",
       "  'total': 12,\n",
       "  'total_pages': 2,\n",
       "  'data': [],\n",
       "  'support': {'url': 'https://reqres.in/#support-heading',\n",
       "   'text': 'To keep ReqRes free, contributions towards server costs are appreciated!'}},\n",
       " 6: {'page': 6,\n",
       "  'per_page': 6,\n",
       "  'total': 12,\n",
       "  'total_pages': 2,\n",
       "  'data': [],\n",
       "  'support': {'url': 'https://reqres.in/#support-heading',\n",
       "   'text': 'To keep ReqRes free, contributions towards server costs are appreciated!'}},\n",
       " 7: {'page': 7,\n",
       "  'per_page': 6,\n",
       "  'total': 12,\n",
       "  'total_pages': 2,\n",
       "  'data': [],\n",
       "  'support': {'url': 'https://reqres.in/#support-heading',\n",
       "   'text': 'To keep ReqRes free, contributions towards server costs are appreciated!'}},\n",
       " 8: {'page': 8,\n",
       "  'per_page': 6,\n",
       "  'total': 12,\n",
       "  'total_pages': 2,\n",
       "  'data': [],\n",
       "  'support': {'url': 'https://reqres.in/#support-heading',\n",
       "   'text': 'To keep ReqRes free, contributions towards server costs are appreciated!'}},\n",
       " 9: {'page': 9,\n",
       "  'per_page': 6,\n",
       "  'total': 12,\n",
       "  'total_pages': 2,\n",
       "  'data': [],\n",
       "  'support': {'url': 'https://reqres.in/#support-heading',\n",
       "   'text': 'To keep ReqRes free, contributions towards server costs are appreciated!'}},\n",
       " 10: {'page': 10,\n",
       "  'per_page': 6,\n",
       "  'total': 12,\n",
       "  'total_pages': 2,\n",
       "  'data': [],\n",
       "  'support': {'url': 'https://reqres.in/#support-heading',\n",
       "   'text': 'To keep ReqRes free, contributions towards server costs are appreciated!'}},\n",
       " 11: {'page': 11,\n",
       "  'per_page': 6,\n",
       "  'total': 12,\n",
       "  'total_pages': 2,\n",
       "  'data': [],\n",
       "  'support': {'url': 'https://reqres.in/#support-heading',\n",
       "   'text': 'To keep ReqRes free, contributions towards server costs are appreciated!'}},\n",
       " 12: {'page': 12,\n",
       "  'per_page': 6,\n",
       "  'total': 12,\n",
       "  'total_pages': 2,\n",
       "  'data': [],\n",
       "  'support': {'url': 'https://reqres.in/#support-heading',\n",
       "   'text': 'To keep ReqRes free, contributions towards server costs are appreciated!'}}}"
      ]
     },
     "execution_count": 9,
     "metadata": {},
     "output_type": "execute_result"
    }
   ],
   "source": [
    "data"
   ]
  },
  {
   "cell_type": "code",
   "execution_count": 10,
   "metadata": {},
   "outputs": [
    {
     "data": {
      "text/plain": [
       "{'id': '784', 'createdAt': '2022-04-15T04:56:49.031Z'}"
      ]
     },
     "execution_count": 10,
     "metadata": {},
     "output_type": "execute_result"
    }
   ],
   "source": [
    "params = {\n",
    "    \"name\": \"morpheus\",\n",
    "    \"job\": \"leader\"\n",
    "}\n",
    "\n",
    "response = requests.post(r'https://reqres.in/api/users', params=params)\n",
    "response.json()\n"
   ]
  },
  {
   "cell_type": "code",
   "execution_count": null,
   "metadata": {},
   "outputs": [],
   "source": []
  }
 ],
 "metadata": {
  "interpreter": {
   "hash": "14a336a61cfaefff504b47e2b8e6e50961f0feafa7b211f8ff23081790c52144"
  },
  "kernelspec": {
   "display_name": "Python 3.9.7 64-bit",
   "name": "python3"
  },
  "language_info": {
   "codemirror_mode": {
    "name": "ipython",
    "version": 3
   },
   "file_extension": ".py",
   "mimetype": "text/x-python",
   "name": "python",
   "nbconvert_exporter": "python",
   "pygments_lexer": "ipython3",
   "version": "3.10.1"
  },
  "orig_nbformat": 4
 },
 "nbformat": 4,
 "nbformat_minor": 2
}
