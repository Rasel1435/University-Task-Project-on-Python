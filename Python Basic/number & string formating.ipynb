{
 "cells": [
  {
   "cell_type": "code",
   "execution_count": 1,
   "metadata": {},
   "outputs": [
    {
     "data": {
      "text/plain": [
       "complex"
      ]
     },
     "execution_count": 1,
     "metadata": {},
     "output_type": "execute_result"
    }
   ],
   "source": [
    "## Number\n",
    "# int\n",
    "age = 24\n",
    "type(age)\n",
    "\n",
    "## Float\n",
    "weight = 55.5\n",
    "type(weight)\n",
    "\n",
    "## Boolean\n",
    "is_married = False\n",
    "type(is_married)\n",
    "\n",
    "## Complex\n",
    "com = 2+3j\n",
    "type(com)"
   ]
  },
  {
   "cell_type": "code",
   "execution_count": 2,
   "metadata": {},
   "outputs": [
    {
     "name": "stdout",
     "output_type": "stream",
     "text": [
      "<class 'str'>\n",
      "2.0\n",
      "True\n"
     ]
    },
    {
     "data": {
      "text/plain": [
       "'(2+0j)'"
      ]
     },
     "execution_count": 2,
     "metadata": {},
     "output_type": "execute_result"
    }
   ],
   "source": [
    "## Type Conversion\n",
    "n1 = 'H'\n",
    "n = '2'\n",
    "print(type(n))\n",
    "newN = int(n)\n",
    "type(newN)\n",
    "\n",
    "fn = float(newN)\n",
    "print(fn)\n",
    "\n",
    "bn = bool(fn)\n",
    "print(bn)\n",
    "bool(' ')\n",
    "\n",
    "c = complex(2)\n",
    "str(c)"
   ]
  },
  {
   "cell_type": "code",
   "execution_count": 5,
   "metadata": {},
   "outputs": [
    {
     "name": "stdout",
     "output_type": "stream",
     "text": [
      "Your Account Created Seuccessfully!\n",
      "Your Name: Sheikh Rasel Ahmed\n",
      "Your Age: 27\n",
      "Your Weight: 82.0\n"
     ]
    },
    {
     "data": {
      "text/plain": [
       "(int, float)"
      ]
     },
     "execution_count": 5,
     "metadata": {},
     "output_type": "execute_result"
    }
   ],
   "source": [
    "## \n",
    "name = input('Enter Name: ')\n",
    "age = int(input('Enter Your age: '))\n",
    "weight = float(input('Enter Your Weight: '))\n",
    "print('Your Account Created Seuccessfully!')\n",
    "print(f'Your Name: {name}')\n",
    "print(f'Your Age: {age}')\n",
    "print(f'Your Weight: {weight}')\n",
    "type(age),type(weight)"
   ]
  },
  {
   "cell_type": "code",
   "execution_count": 9,
   "metadata": {},
   "outputs": [
    {
     "name": "stdout",
     "output_type": "stream",
     "text": [
      "hello Welcome 8\n",
      "\"Book\"-\n",
      " Austing @@@@@\t Welcome\n"
     ]
    }
   ],
   "source": [
    "## How to use print\n",
    "print(\"hello\"+' Welcome ' + str(8))\n",
    "# \"Book\"- Austing\n",
    "print('\"Book\"-\\n Austing ', end='@@@@@')\n",
    "print('\\t Welcome')"
   ]
  },
  {
   "cell_type": "code",
   "execution_count": 10,
   "metadata": {},
   "outputs": [
    {
     "name": "stdout",
     "output_type": "stream",
     "text": [
      "Sheikh Rasel Ahmed Your Account  27 Created Seuccessfully! 27 82.0\n",
      "27 Your Account Sheikh Rasel Ahmed Created 82.0 Seuccessfully!\n",
      "Sheikh Rasel Ahmed Your Account 27 Created 82.0 Seuccessfully!\n",
      "Sheikh Rasel Ahmed Your Account 28 Created 82.0 Seuccessfully!\n"
     ]
    }
   ],
   "source": [
    "## String formating\n",
    "print(name,'Your Account ',age,'Created Seuccessfully!', age, weight)\n",
    "#1\n",
    "print('{1} Your Account {0} Created {2} Seuccessfully!'.format(name,age,weight))\n",
    "\n",
    "#2\n",
    "print('%s Your Account %d Created %.1f Seuccessfully!' %(name,age,weight))\n",
    "\n",
    "#3\n",
    "print(f'{name} Your Account {age+1} Created {weight} Seuccessfully!')"
   ]
  }
 ],
 "metadata": {
  "interpreter": {
   "hash": "b89b5cfaba6639976dc87ff2fec6d58faec662063367e2c229c520fe71072417"
  },
  "kernelspec": {
   "display_name": "Python 3.10.1 64-bit",
   "language": "python",
   "name": "python3"
  },
  "language_info": {
   "codemirror_mode": {
    "name": "ipython",
    "version": 3
   },
   "file_extension": ".py",
   "mimetype": "text/x-python",
   "name": "python",
   "nbconvert_exporter": "python",
   "pygments_lexer": "ipython3",
   "version": "3.10.1"
  },
  "orig_nbformat": 4
 },
 "nbformat": 4,
 "nbformat_minor": 2
}
