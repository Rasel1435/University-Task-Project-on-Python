{
 "cells": [
  {
   "cell_type": "code",
   "execution_count": null,
   "metadata": {},
   "outputs": [],
   "source": [
    "## Program for Smart Door\n",
    "# originalpassword = opendoor@2021\n",
    "# Will take password, if password matches original password, Will open Door.\n",
    "# else Try againg wrong password.\n",
    "# maxTry = 3, Door will be locked.\n",
    "# Change Password."
   ]
  },
  {
   "cell_type": "code",
   "execution_count": null,
   "metadata": {},
   "outputs": [],
   "source": [
    "import time \n",
    "\n",
    "p = 'PS' \n",
    "maxtry = 0\n",
    "\n",
    "# Condition\n",
    "while True:\n",
    "    x = input(\"Enter Your Door Password For Unlock\")\n",
    "    maxtry +=1\n",
    "\n",
    "    if x == p:\n",
    "        print('Door is opening>>')\n",
    "        break\n",
    "    else:\n",
    "        print('Password is incorrect Try Again')\n",
    "        if maxtry == 3:\n",
    "            print('Door Locked wait 5 Seconds')\n",
    "            time.sleep(5)"
   ]
  }
 ],
 "metadata": {
  "interpreter": {
   "hash": "14a336a61cfaefff504b47e2b8e6e50961f0feafa7b211f8ff23081790c52144"
  },
  "kernelspec": {
   "display_name": "Python 3.9.7 64-bit",
   "name": "python3"
  },
  "language_info": {
   "codemirror_mode": {
    "name": "ipython",
    "version": 3
   },
   "file_extension": ".py",
   "mimetype": "text/x-python",
   "name": "python",
   "nbconvert_exporter": "python",
   "pygments_lexer": "ipython3",
   "version": "3.10.1"
  },
  "orig_nbformat": 4
 },
 "nbformat": 4,
 "nbformat_minor": 2
}
