{
 "cells": [
  {
   "cell_type": "markdown",
   "metadata": {},
   "source": [
    "## Data Type"
   ]
  },
  {
   "cell_type": "code",
   "execution_count": 6,
   "metadata": {},
   "outputs": [
    {
     "data": {
      "text/plain": [
       "(2, 3, 4, 5, 6, 6, 7, 8, 9)"
      ]
     },
     "execution_count": 6,
     "metadata": {},
     "output_type": "execute_result"
    }
   ],
   "source": [
    "### Tuple()\n",
    "num = (2,3,4,5,6,6,7,8,9)\n",
    "nums = tuple(num)\n",
    "\n",
    "nums[::-1]\n",
    "# nums[2] = 9 'tuple' object does not support item assignment\n",
    "# del nums (supported)\n",
    "nums"
   ]
  },
  {
   "cell_type": "code",
   "execution_count": 27,
   "metadata": {},
   "outputs": [
    {
     "data": {
      "text/plain": [
       "True"
      ]
     },
     "execution_count": 27,
     "metadata": {},
     "output_type": "execute_result"
    }
   ],
   "source": [
    "## Set{}\n",
    "s1 = {1,2,4,3,5}\n",
    "# s1[1]\n",
    "s1.add(45)\n",
    "s2 = {4,5,8,9,10}\n",
    "s1.difference(s2)\n",
    "s2.difference(s1)\n",
    "s1.union(s2)\n",
    "s1.intersection(s2)\n",
    "s1.pop()\n",
    "s1.update({23,44,55})\n",
    "s1.difference_update(s2)\n",
    "s1.symmetric_difference(s2)\n",
    "s1.discard(10)\n",
    "{1,2,3,4}.issuperset({3,4})"
   ]
  },
  {
   "cell_type": "code",
   "execution_count": 28,
   "metadata": {},
   "outputs": [
    {
     "data": {
      "text/plain": [
       "{2: 'Sss', 'avgAge': 30, 3: 'Stud3', 6: 'D'}"
      ]
     },
     "execution_count": 28,
     "metadata": {},
     "output_type": "execute_result"
    }
   ],
   "source": [
    "# Dictionary\n",
    "d = {1:'STud1', 2:'Stud2', \"avgAge\":25}\n",
    "type(d)\n",
    "d.keys(), d.values(), d.items()\n",
    "\n",
    "d[2]\n",
    "d['avgAge']\n",
    "d['avgAge'] = 30\n",
    "# print(d.get('avgAges'))\n",
    "\n",
    "d.pop(1)\n",
    "d[3] = 'Stud3'\n",
    "d.update({4.5:[1,2,3]})\n",
    "d.popitem()\n",
    "d.setdefault(6, 'D')\n",
    "d1 = d.fromkeys([11,23,45])\n",
    "d.update({2:'Sss'})\n",
    "d"
   ]
  },
  {
   "cell_type": "code",
   "execution_count": null,
   "metadata": {},
   "outputs": [],
   "source": [
    "# LIST []"
   ]
  }
 ],
 "metadata": {
  "interpreter": {
   "hash": "b89b5cfaba6639976dc87ff2fec6d58faec662063367e2c229c520fe71072417"
  },
  "kernelspec": {
   "display_name": "Python 3.10.1 64-bit",
   "language": "python",
   "name": "python3"
  },
  "language_info": {
   "codemirror_mode": {
    "name": "ipython",
    "version": 3
   },
   "file_extension": ".py",
   "mimetype": "text/x-python",
   "name": "python",
   "nbconvert_exporter": "python",
   "pygments_lexer": "ipython3",
   "version": "3.10.1"
  },
  "orig_nbformat": 4
 },
 "nbformat": 4,
 "nbformat_minor": 2
}
