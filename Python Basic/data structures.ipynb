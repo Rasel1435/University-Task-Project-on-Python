{
 "cells": [
  {
   "cell_type": "markdown",
   "metadata": {},
   "source": [
    "## Data Structures"
   ]
  },
  {
   "cell_type": "code",
   "execution_count": 3,
   "metadata": {},
   "outputs": [
    {
     "name": "stdout",
     "output_type": "stream",
     "text": [
      "3.5\n",
      "9\n",
      "True\n",
      "1\n"
     ]
    }
   ],
   "source": [
    "# List\n",
    "rolls = [1,4,5,6,2,6,3.5, 'Stduent', True]\n",
    "\n",
    "## Accessing Data\n",
    "print(rolls[6])\n",
    "print(len(rolls))\n",
    "print(rolls[8])\n",
    "print(rolls[-9])\n"
   ]
  },
  {
   "cell_type": "code",
   "execution_count": 4,
   "metadata": {},
   "outputs": [
    {
     "name": "stdout",
     "output_type": "stream",
     "text": [
      "[4, 5, 6]\n",
      "[6, 3.5, 'Stduent']\n",
      "[4, 5, 6, 2, 6, 3.5, 'Stduent', True]\n",
      "[1, 4, 5, 6, 2]\n"
     ]
    }
   ],
   "source": [
    "# List\n",
    "rolls = [1,4,5,6,2,6,3.5, 'Stduent', True]\n",
    "\n",
    "## Slice\n",
    "print(rolls[1:4])\n",
    "print(rolls[5:8])\n",
    "print(rolls[1:])\n",
    "print(rolls[:5])"
   ]
  },
  {
   "cell_type": "code",
   "execution_count": 5,
   "metadata": {},
   "outputs": [
    {
     "name": "stdout",
     "output_type": "stream",
     "text": [
      "[2, 5, 8]\n",
      "[9, 7, 5, 3]\n",
      "nohtyP\n"
     ]
    }
   ],
   "source": [
    "# List\n",
    "rolls = [1,4,5,6,2,6,3.5, 'Stduent', True]\n",
    "\n",
    "#nums[start:end:step]\n",
    "nums = [2,3,4,5,6,7,8,9]\n",
    "print(nums[::3])\n",
    "print(nums[::-2])\n",
    "print('Python'[::-1])\n"
   ]
  },
  {
   "cell_type": "code",
   "execution_count": 6,
   "metadata": {},
   "outputs": [
    {
     "data": {
      "text/plain": [
       "[2, 4, 5, 6, 6, 7, 7, 8, 8, 9, 9, 11, 25, 99]"
      ]
     },
     "execution_count": 6,
     "metadata": {},
     "output_type": "execute_result"
    }
   ],
   "source": [
    "# List\n",
    "rolls = [1,4,5,6,2,6,3.5, 'Stduent', True]\n",
    "\n",
    "## Update\n",
    "nums[3] = 11\n",
    "\n",
    "# Functions\n",
    "nums.append(25)\n",
    "# nums.append([1,2,3])\n",
    "nums.insert(5,99)\n",
    "nums.extend([5,6,7])\n",
    "nums = nums + [7,8,9]\n",
    "nums.remove(7)\n",
    "nums.index(7)\n",
    "nums.pop(1)\n",
    "nums.count(7)\n",
    "nums.sort(reverse=True)\n",
    "nums.reverse()\n",
    "nums"
   ]
  }
 ],
 "metadata": {
  "interpreter": {
   "hash": "b89b5cfaba6639976dc87ff2fec6d58faec662063367e2c229c520fe71072417"
  },
  "kernelspec": {
   "display_name": "Python 3.10.1 64-bit",
   "language": "python",
   "name": "python3"
  },
  "language_info": {
   "codemirror_mode": {
    "name": "ipython",
    "version": 3
   },
   "file_extension": ".py",
   "mimetype": "text/x-python",
   "name": "python",
   "nbconvert_exporter": "python",
   "pygments_lexer": "ipython3",
   "version": "3.10.1"
  },
  "orig_nbformat": 4
 },
 "nbformat": 4,
 "nbformat_minor": 2
}
