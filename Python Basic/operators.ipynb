{
 "cells": [
  {
   "cell_type": "markdown",
   "metadata": {},
   "source": [
    "## Operators"
   ]
  },
  {
   "cell_type": "code",
   "execution_count": 6,
   "metadata": {},
   "outputs": [
    {
     "name": "stdout",
     "output_type": "stream",
     "text": [
      "Add = 9\n",
      "Sub = 2\n",
      "Mul = 8\n",
      "Div = 2.0\n",
      "2\n",
      "1\n",
      "243\n"
     ]
    }
   ],
   "source": [
    "## Arithmatic\n",
    "print(f\"Add = {5 + 4}\")\n",
    "print(f\"Sub = {4 - 2}\")\n",
    "print(f\"Mul = {4 * 2}\")\n",
    "print(f\"Div = {4 / 2}\")\n",
    "print(4 // 2)\n",
    "print(5 % 2)\n",
    "print(3 ** 5)"
   ]
  },
  {
   "cell_type": "code",
   "execution_count": 7,
   "metadata": {},
   "outputs": [
    {
     "data": {
      "text/plain": [
       "True"
      ]
     },
     "execution_count": 7,
     "metadata": {},
     "output_type": "execute_result"
    }
   ],
   "source": [
    "## Comparison Operator\n",
    "2 == 2\n",
    "2 == 3\n",
    "2 != 2\n",
    "2 != 3\n",
    "\n",
    "2 > 3\n",
    "3 > 2\n",
    "2 < 3\n",
    "3 < 2\n",
    "\n",
    "0 >= 1\n",
    "1 <= 3"
   ]
  },
  {
   "cell_type": "code",
   "execution_count": 8,
   "metadata": {},
   "outputs": [
    {
     "data": {
      "text/plain": [
       "True"
      ]
     },
     "execution_count": 8,
     "metadata": {},
     "output_type": "execute_result"
    }
   ],
   "source": [
    "## Logical Operators\n",
    "## and\n",
    "True and True\n",
    "True and False\n",
    "False and True\n",
    "False and False\n",
    "\n",
    "## or\n",
    "True or True\n",
    "True or False\n",
    "False or True\n",
    "False or False\n",
    "\n",
    "## not\n",
    "not True\n",
    "not False"
   ]
  },
  {
   "cell_type": "code",
   "execution_count": 9,
   "metadata": {},
   "outputs": [
    {
     "data": {
      "text/plain": [
       "-6"
      ]
     },
     "execution_count": 9,
     "metadata": {},
     "output_type": "execute_result"
    }
   ],
   "source": [
    "## Bitwise Operator\n",
    "# p = 8 4 2 1\n",
    "# 5 = 0 1 0 1\n",
    "# 2 = 0 0 1 0\n",
    "# 0 = 0 0 0 0\n",
    "5 & 2\n",
    "\n",
    "# p = 8 4 2 1\n",
    "# 5 = 0 1 0 1\n",
    "# 2 = 0 0 1 0\n",
    "# 7 = 0 1 1 1\n",
    "5 | 2\n",
    "\n",
    "# p = 8 4 2 1\n",
    "# 5 = 0 1 0 1\n",
    "# 3 = 0 0 1 1\n",
    "# 7 = 0 1 1 0\n",
    "5 ^ 3\n",
    "\n",
    "## Left Shift\n",
    "# p = 8 4 2 1\n",
    "# 3 = 0 0 1 1\n",
    "#14 = 1 1 0 0\n",
    "3 << 2\n",
    "\n",
    "# p = 8 4 2 1\n",
    "# 3 = 0 0 1 1\n",
    "# 0 = 0 0 0 0\n",
    "3 >> 2\n",
    "\n",
    "# p = 4 2 1\n",
    "# 5 = 1 0 1\n",
    "#  = 0 1 0\n",
    "#        1\n",
    "~ 5"
   ]
  },
  {
   "cell_type": "code",
   "execution_count": 10,
   "metadata": {},
   "outputs": [
    {
     "data": {
      "text/plain": [
       "1"
      ]
     },
     "execution_count": 10,
     "metadata": {},
     "output_type": "execute_result"
    }
   ],
   "source": [
    "## Assignment\n",
    "# =\n",
    "\n",
    "num = 3\n",
    "num += 1\n",
    "num -= 1\n",
    "num *= 2\n",
    "num **= 2\n",
    "num /= 2\n",
    "\n",
    "num = 3.0\n",
    "num //= 2\n",
    "num\n",
    "3 // 2"
   ]
  },
  {
   "cell_type": "code",
   "execution_count": 11,
   "metadata": {},
   "outputs": [
    {
     "data": {
      "text/plain": [
       "(True, False)"
      ]
     },
     "execution_count": 11,
     "metadata": {},
     "output_type": "execute_result"
    }
   ],
   "source": [
    "## Special Operators\n",
    "'Q' in 'happy'\n",
    "'Q' not in 'happy'\n",
    "a = 2\n",
    "b = 2.0\n",
    "\n",
    "a == b, (a is b)"
   ]
  },
  {
   "cell_type": "code",
   "execution_count": null,
   "metadata": {},
   "outputs": [],
   "source": [
    "### Basic Calculator\n",
    "## Take Input From User num1 and num2\n",
    "## Show Arthmatic Operation result "
   ]
  }
 ],
 "metadata": {
  "interpreter": {
   "hash": "b89b5cfaba6639976dc87ff2fec6d58faec662063367e2c229c520fe71072417"
  },
  "kernelspec": {
   "display_name": "Python 3.10.1 64-bit",
   "language": "python",
   "name": "python3"
  },
  "language_info": {
   "codemirror_mode": {
    "name": "ipython",
    "version": 3
   },
   "file_extension": ".py",
   "mimetype": "text/x-python",
   "name": "python",
   "nbconvert_exporter": "python",
   "pygments_lexer": "ipython3",
   "version": "3.10.1"
  },
  "orig_nbformat": 4
 },
 "nbformat": 4,
 "nbformat_minor": 2
}
