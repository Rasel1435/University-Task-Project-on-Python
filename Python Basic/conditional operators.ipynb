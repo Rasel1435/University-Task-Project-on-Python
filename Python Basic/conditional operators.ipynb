{
 "cells": [
  {
   "cell_type": "markdown",
   "metadata": {},
   "source": [
    "## Conditional "
   ]
  },
  {
   "cell_type": "code",
   "execution_count": 1,
   "metadata": {},
   "outputs": [
    {
     "name": "stdout",
     "output_type": "stream",
     "text": [
      "Eligible for Credit Card!\n"
     ]
    }
   ],
   "source": [
    "age = 18\n",
    "salary = 50000\n",
    "\n",
    "if age >= 18:\n",
    "    if salary >= 40000:\n",
    "        print('Eligible for Credit Card!')\n",
    "    else:\n",
    "        print('Eligible for Debit Card!')\n",
    "else:\n",
    "    print('Eligible for Green Card!')\n"
   ]
  },
  {
   "cell_type": "code",
   "execution_count": 2,
   "metadata": {},
   "outputs": [
    {
     "name": "stdout",
     "output_type": "stream",
     "text": [
      "Eligible for Green Card!\n"
     ]
    }
   ],
   "source": [
    "age = 17\n",
    "salary = 30000\n",
    "\n",
    "if (age >= 18) and (salary >= 40000):\n",
    "    print('Eligible for Credit Card!')\n",
    "elif age >= 18:\n",
    "    print('Eligible for Debit Card!')\n",
    "else:\n",
    "    print('Eligible for Green Card!')\n"
   ]
  }
 ],
 "metadata": {
  "interpreter": {
   "hash": "b89b5cfaba6639976dc87ff2fec6d58faec662063367e2c229c520fe71072417"
  },
  "kernelspec": {
   "display_name": "Python 3.10.1 64-bit",
   "language": "python",
   "name": "python3"
  },
  "language_info": {
   "codemirror_mode": {
    "name": "ipython",
    "version": 3
   },
   "file_extension": ".py",
   "mimetype": "text/x-python",
   "name": "python",
   "nbconvert_exporter": "python",
   "pygments_lexer": "ipython3",
   "version": "3.10.1"
  },
  "orig_nbformat": 4
 },
 "nbformat": 4,
 "nbformat_minor": 2
}
